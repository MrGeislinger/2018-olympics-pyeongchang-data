{
 "cells": [
  {
   "cell_type": "code",
   "execution_count": null,
   "metadata": {},
   "outputs": [],
   "source": [
    "from bs4 import BeautifulSoup \n",
    "import csv\n",
    "import re\n",
    "import requests"
   ]
  },
  {
   "cell_type": "markdown",
   "metadata": {},
   "source": [
    "## Gathering Data\n",
    "\n",
    "I'm scraping the data from https://www.olympic.org/ via BeautifulSoup4"
   ]
  },
  {
   "cell_type": "code",
   "execution_count": null,
   "metadata": {},
   "outputs": [],
   "source": [
    "# Base is used to reference complete urls\n",
    "url_base = 'https://www.olympic.org'\n",
    "# Main page has reference to all sports (links & image representations)\n",
    "url_main = 'https://www.olympic.org/pyeongchang-2018'"
   ]
  },
  {
   "cell_type": "markdown",
   "metadata": {},
   "source": [
    "### Sports & Event Data"
   ]
  },
  {
   "cell_type": "markdown",
   "metadata": {},
   "source": [
    "#### Reference page to list all sports"
   ]
  },
  {
   "cell_type": "code",
   "execution_count": null,
   "metadata": {},
   "outputs": [],
   "source": [
    "# Get document to be passed in for soup (better/cleaner practice)\n",
    "request_main = requests.get(url_main)\n",
    "text_main = request_main.text\n",
    "soup_main = BeautifulSoup(text_main, 'html.parser')"
   ]
  },
  {
   "cell_type": "code",
   "execution_count": null,
   "metadata": {},
   "outputs": [],
   "source": [
    "# Get the image container and the name/link container (comes in pairs)\n",
    "sports_section = soup_main.find_all('section', {'class':'game-results-box'})[0]\n",
    "sports_section = sports_section.find_all('ul', {'class':['countries','games2018-2']})[0]\n",
    "sports_list = sports_section.find_all('li', {'class':'box'})\n",
    "\n",
    "# Dictonary for the sports\n",
    "sports_info = []\n",
    "for item in sports_list:\n",
    "    sport_name = item.a.text.strip()\n",
    "    # Link has full url address\n",
    "    sport_link = '{base}{sport}'.format(base=url_base, sport=item.a['href'])\n",
    "    # ID for sport will be what is used by website to define the sport's pages\n",
    "    sport_id = sport_name.lower().replace(' ','-')    \n",
    "    # Save each sport into list of dictionary info\n",
    "    sport_dict = {'id': sport_id, 'page': sport_link, 'name': sport_name}\n",
    "    sports_info.append(sport_dict)"
   ]
  },
  {
   "cell_type": "code",
   "execution_count": null,
   "metadata": {},
   "outputs": [],
   "source": [
    "# Test data\n",
    "print('Number of sports: {}'.format(len(sports_info)))\n",
    "print('====================')\n",
    "for sport in sports_info:\n",
    "    for k, v in sport.items():\n",
    "        print(k,v)\n",
    "    print('-----------')"
   ]
  }
 ],
 "metadata": {
  "kernelspec": {
   "display_name": "Python 3",
   "language": "python",
   "name": "python3"
  },
  "language_info": {
   "codemirror_mode": {
    "name": "ipython",
    "version": 3
   },
   "file_extension": ".py",
   "mimetype": "text/x-python",
   "name": "python",
   "nbconvert_exporter": "python",
   "pygments_lexer": "ipython3",
   "version": "3.6.4"
  }
 },
 "nbformat": 4,
 "nbformat_minor": 2
}
