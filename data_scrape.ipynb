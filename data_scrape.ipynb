{
 "cells": [
  {
   "cell_type": "code",
   "execution_count": 1,
   "metadata": {},
   "outputs": [],
   "source": [
    "from bs4 import BeautifulSoup \n",
    "import csv\n",
    "import re\n",
    "import requests"
   ]
  },
  {
   "cell_type": "markdown",
   "metadata": {},
   "source": [
    "## Gathering Data\n",
    "\n",
    "I'm scraping the data from https://www.olympic.org/ via BeautifulSoup4"
   ]
  },
  {
   "cell_type": "code",
   "execution_count": 2,
   "metadata": {},
   "outputs": [],
   "source": [
    "# Useful references to directories (all directories end with '/')\n",
    "dr_connector = 'en/'\n",
    "dr_imgs = 'resOWG2018/img/'\n",
    "dr_results = 'https://www.olympic.org/pyeongchang-2018/results/'"
   ]
  },
  {
   "cell_type": "markdown",
   "metadata": {},
   "source": [
    "### Sports & Event Data"
   ]
  },
  {
   "cell_type": "markdown",
   "metadata": {},
   "source": [
    "#### Reference page to list all sports"
   ]
  },
  {
   "cell_type": "code",
   "execution_count": 3,
   "metadata": {},
   "outputs": [],
   "source": [
    "# Main page has reference to all sports (links & image representations)\n",
    "url_main = 'https://www.olympic.org/pyeongchang-2018'\n",
    "\n",
    "# Get document to be passed in for soup (better/cleaner practice)\n",
    "request_main = requests.get(url_main)\n",
    "text_main = request_main.text\n",
    "soup_main = BeautifulSoup(text_main, 'html.parser')"
   ]
  },
  {
   "cell_type": "code",
   "execution_count": 4,
   "metadata": {},
   "outputs": [],
   "source": [
    "# Get the image container and the name/link container (comes in pairs)\n",
    "sports_section = soup_main.find_all('section', {'class':'game-results-box'})[0]\n",
    "sports_section = sports_section.find_all('ul', {'class':['countries','games2018-2']})[0]\n",
    "sports_list = sports_section.find_all('li', {'class':'box'})\n",
    "\n",
    "# Dictonary for the sports\n",
    "sports_info = []\n",
    "for item in sports_list:\n",
    "\n",
    "    sport_link = item.a['href']\n",
    "    sport_name = item.a.text.strip()\n",
    "    # ID for sport will be what is used by website to define the sport's pages\n",
    "    sport_id = sport_name.lower().replace(' ','-')    \n",
    "    # Save each sport into list of dictionary info\n",
    "    sport_dict = {'id': sport_id, 'page': sport_link, 'name': sport_name}\n",
    "    sports_info.append(sport_dict)"
   ]
  },
  {
   "cell_type": "code",
   "execution_count": 5,
   "metadata": {},
   "outputs": [
    {
     "name": "stdout",
     "output_type": "stream",
     "text": [
      "Number of sports: 15\n",
      "====================\n",
      "id alpine-skiing\n",
      "page /pyeongchang-2018/alpine-skiing\n",
      "name Alpine Skiing\n",
      "-----------\n",
      "id biathlon\n",
      "page /pyeongchang-2018/biathlon\n",
      "name Biathlon\n",
      "-----------\n",
      "id bobsleigh\n",
      "page /pyeongchang-2018/bobsleigh\n",
      "name Bobsleigh\n",
      "-----------\n",
      "id cross-country-skiing\n",
      "page /pyeongchang-2018/cross-country-skiing\n",
      "name Cross Country Skiing\n",
      "-----------\n",
      "id curling\n",
      "page /pyeongchang-2018/curling\n",
      "name Curling\n",
      "-----------\n",
      "id figure-skating\n",
      "page /pyeongchang-2018/figure-skating\n",
      "name Figure skating\n",
      "-----------\n",
      "id freestyle-skiing\n",
      "page /pyeongchang-2018/freestyle-skiing\n",
      "name Freestyle Skiing\n",
      "-----------\n",
      "id ice-hockey\n",
      "page /pyeongchang-2018/ice-hockey\n",
      "name Ice Hockey\n",
      "-----------\n",
      "id luge\n",
      "page /pyeongchang-2018/luge\n",
      "name Luge\n",
      "-----------\n",
      "id nordic-combined\n",
      "page /pyeongchang-2018/nordic-combined\n",
      "name Nordic Combined\n",
      "-----------\n",
      "id short-track\n",
      "page /pyeongchang-2018/short-track\n",
      "name Short Track\n",
      "-----------\n",
      "id skeleton\n",
      "page /pyeongchang-2018/skeleton\n",
      "name Skeleton\n",
      "-----------\n",
      "id ski-jumping\n",
      "page /pyeongchang-2018/ski-jumping\n",
      "name Ski Jumping\n",
      "-----------\n",
      "id snowboard\n",
      "page /pyeongchang-2018/snowboard\n",
      "name Snowboard\n",
      "-----------\n",
      "id speed-skating\n",
      "page /pyeongchang-2018/speed-skating\n",
      "name Speed skating\n",
      "-----------\n"
     ]
    }
   ],
   "source": [
    "# Test data\n",
    "print('Number of sports: {}'.format(len(sports_info)))\n",
    "print('====================')\n",
    "for sport in sports_info:\n",
    "    for k, v in sport.items():\n",
    "        print(k,v)\n",
    "    print('-----------')"
   ]
  }
 ],
 "metadata": {
  "kernelspec": {
   "display_name": "Python 3",
   "language": "python",
   "name": "python3"
  },
  "language_info": {
   "codemirror_mode": {
    "name": "ipython",
    "version": 3
   },
   "file_extension": ".py",
   "mimetype": "text/x-python",
   "name": "python",
   "nbconvert_exporter": "python",
   "pygments_lexer": "ipython3",
   "version": "3.6.4"
  }
 },
 "nbformat": 4,
 "nbformat_minor": 2
}
